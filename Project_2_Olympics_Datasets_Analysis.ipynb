{
 "cells": [
  {
   "cell_type": "markdown",
   "metadata": {},
   "source": [
    "## Importing the Library of Pandas, Numpy, Matplotlib.pyplot"
   ]
  },
  {
   "cell_type": "code",
   "execution_count": 2,
   "metadata": {
    "id": "D740f-IqsCod"
   },
   "outputs": [],
   "source": [
    "import pandas as pd\n",
    "import numpy as np\n",
    "import matplotlib.pyplot as plt"
   ]
  },
  {
   "cell_type": "markdown",
   "metadata": {},
   "source": [
    "### Reading the Olympics CSV File"
   ]
  },
  {
   "cell_type": "code",
   "execution_count": 4,
   "metadata": {
    "id": "RyvgYfXPsQ7Q"
   },
   "outputs": [],
   "source": [
    "olympics_data = pd.read_csv(\"summer.csv\")"
   ]
  },
  {
   "cell_type": "markdown",
   "metadata": {},
   "source": [
    "### Head Function shows only First Five Data of CSV Datasets"
   ]
  },
  {
   "cell_type": "code",
   "execution_count": 5,
   "metadata": {
    "colab": {
     "base_uri": "https://localhost:8080/",
     "height": 204
    },
    "id": "FzQJZwccsmKY",
    "outputId": "d9353317-536f-4f11-c89a-5c5cd4663e07"
   },
   "outputs": [
    {
     "data": {
      "text/html": [
       "<div>\n",
       "<style scoped>\n",
       "    .dataframe tbody tr th:only-of-type {\n",
       "        vertical-align: middle;\n",
       "    }\n",
       "\n",
       "    .dataframe tbody tr th {\n",
       "        vertical-align: top;\n",
       "    }\n",
       "\n",
       "    .dataframe thead th {\n",
       "        text-align: right;\n",
       "    }\n",
       "</style>\n",
       "<table border=\"1\" class=\"dataframe\">\n",
       "  <thead>\n",
       "    <tr style=\"text-align: right;\">\n",
       "      <th></th>\n",
       "      <th>Year</th>\n",
       "      <th>City</th>\n",
       "      <th>Sport</th>\n",
       "      <th>Discipline</th>\n",
       "      <th>Athlete</th>\n",
       "      <th>Country</th>\n",
       "      <th>Gender</th>\n",
       "      <th>Event</th>\n",
       "      <th>Medal</th>\n",
       "    </tr>\n",
       "  </thead>\n",
       "  <tbody>\n",
       "    <tr>\n",
       "      <th>0</th>\n",
       "      <td>1896</td>\n",
       "      <td>Athens</td>\n",
       "      <td>Aquatics</td>\n",
       "      <td>Swimming</td>\n",
       "      <td>HAJOS, Alfred</td>\n",
       "      <td>HUN</td>\n",
       "      <td>Men</td>\n",
       "      <td>100M Freestyle</td>\n",
       "      <td>Gold</td>\n",
       "    </tr>\n",
       "    <tr>\n",
       "      <th>1</th>\n",
       "      <td>1896</td>\n",
       "      <td>Athens</td>\n",
       "      <td>Aquatics</td>\n",
       "      <td>Swimming</td>\n",
       "      <td>HERSCHMANN, Otto</td>\n",
       "      <td>AUT</td>\n",
       "      <td>Men</td>\n",
       "      <td>100M Freestyle</td>\n",
       "      <td>Silver</td>\n",
       "    </tr>\n",
       "    <tr>\n",
       "      <th>2</th>\n",
       "      <td>1896</td>\n",
       "      <td>Athens</td>\n",
       "      <td>Aquatics</td>\n",
       "      <td>Swimming</td>\n",
       "      <td>DRIVAS, Dimitrios</td>\n",
       "      <td>GRE</td>\n",
       "      <td>Men</td>\n",
       "      <td>100M Freestyle For Sailors</td>\n",
       "      <td>Bronze</td>\n",
       "    </tr>\n",
       "    <tr>\n",
       "      <th>3</th>\n",
       "      <td>1896</td>\n",
       "      <td>Athens</td>\n",
       "      <td>Aquatics</td>\n",
       "      <td>Swimming</td>\n",
       "      <td>MALOKINIS, Ioannis</td>\n",
       "      <td>GRE</td>\n",
       "      <td>Men</td>\n",
       "      <td>100M Freestyle For Sailors</td>\n",
       "      <td>Gold</td>\n",
       "    </tr>\n",
       "    <tr>\n",
       "      <th>4</th>\n",
       "      <td>1896</td>\n",
       "      <td>Athens</td>\n",
       "      <td>Aquatics</td>\n",
       "      <td>Swimming</td>\n",
       "      <td>CHASAPIS, Spiridon</td>\n",
       "      <td>GRE</td>\n",
       "      <td>Men</td>\n",
       "      <td>100M Freestyle For Sailors</td>\n",
       "      <td>Silver</td>\n",
       "    </tr>\n",
       "  </tbody>\n",
       "</table>\n",
       "</div>"
      ],
      "text/plain": [
       "   Year    City     Sport  ... Gender                       Event   Medal\n",
       "0  1896  Athens  Aquatics  ...    Men              100M Freestyle    Gold\n",
       "1  1896  Athens  Aquatics  ...    Men              100M Freestyle  Silver\n",
       "2  1896  Athens  Aquatics  ...    Men  100M Freestyle For Sailors  Bronze\n",
       "3  1896  Athens  Aquatics  ...    Men  100M Freestyle For Sailors    Gold\n",
       "4  1896  Athens  Aquatics  ...    Men  100M Freestyle For Sailors  Silver\n",
       "\n",
       "[5 rows x 9 columns]"
      ]
     },
     "execution_count": 5,
     "metadata": {},
     "output_type": "execute_result"
    }
   ],
   "source": [
    "olympics_data.head()"
   ]
  },
  {
   "cell_type": "markdown",
   "metadata": {
    "id": "eFa6yXqJ6wnq"
   },
   "source": [
    "## 1. In how many cities Summer Olympics is held so far?"
   ]
  },
  {
   "cell_type": "code",
   "execution_count": 7,
   "metadata": {
    "colab": {
     "base_uri": "https://localhost:8080/"
    },
    "id": "p_SEynwFsyAT",
    "outputId": "bf5f4e29-bd61-4e16-f51c-9a96d56682b5"
   },
   "outputs": [
    {
     "name": "stdout",
     "output_type": "stream",
     "text": [
      "The citites Summer Olympics held is  22\n"
     ]
    }
   ],
   "source": [
    "no_cities = 0\n",
    "for city in olympics_data['City'].unique():\n",
    "    no_cities = no_cities + 1\n",
    "\n",
    "print(\"The citites Summer Olympics held is \",no_cities)"
   ]
  },
  {
   "cell_type": "markdown",
   "metadata": {
    "id": "eQXZlucQ7RKr"
   },
   "source": [
    "## 2. Which sport is having most number of Gold Medals so far? (Top 5)"
   ]
  },
  {
   "cell_type": "code",
   "execution_count": 10,
   "metadata": {
    "colab": {
     "base_uri": "https://localhost:8080/",
     "height": 671
    },
    "id": "42XZY8SDsyZ8",
    "outputId": "bd0ba494-6b4c-44f9-b2e4-ac89aadb8f93"
   },
   "outputs": [
    {
     "data": {
      "text/plain": [
       "<matplotlib.axes._subplots.AxesSubplot at 0x7ff6f1f25d90>"
      ]
     },
     "execution_count": 10,
     "metadata": {},
     "output_type": "execute_result"
    },
    {
     "data": {
      "image/png": "[encoded data removed]",
      "text/plain": [
       "<Figure size 720x720 with 1 Axes>"
      ]
     },
     "metadata": {
      "needs_background": "light"
     },
     "output_type": "display_data"
    }
   ],
   "source": [
    "olympics_data = pd.read_csv(\"summer.csv\")\n",
    "medal = []\n",
    "\n",
    "for sport in olympics_data['Sport'].unique():\n",
    "    olympics_data = pd.read_csv(\"summer.csv\")\n",
    "    olympics_data = olympics_data[olympics_data['Sport'] == sport]\n",
    "    medal.append([sport , len(olympics_data[olympics_data['Medal'] == 'Gold'])])\n",
    "    \n",
    "pd.DataFrame(medal,columns = ['Sport','freq']).sort_values(by='freq', ascending=False).head().plot(x = 'Sport' , y = 'freq', kind = 'bar', figsize = (10,10))"
   ]
  },
  {
   "cell_type": "markdown",
   "metadata": {
    "id": "hrUMBDd97WeV"
   },
   "source": [
    "## 3. Which sport is having most number of medals so far? (Top 5)"
   ]
  },
  {
   "cell_type": "code",
   "execution_count": 12,
   "metadata": {
    "colab": {
     "base_uri": "https://localhost:8080/",
     "height": 671
    },
    "id": "it9MIE70syuj",
    "outputId": "d7adb65b-0b43-4559-ed33-12102ce56204"
   },
   "outputs": [
    {
     "data": {
      "text/plain": [
       "<matplotlib.axes._subplots.AxesSubplot at 0x7ff6f2089950>"
      ]
     },
     "execution_count": 12,
     "metadata": {},
     "output_type": "execute_result"
    },
    {
     "data": {
      "image/png": "[encoded data removed]",
      "text/plain": [
       "<Figure size 720x720 with 1 Axes>"
      ]
     },
     "metadata": {
      "needs_background": "light"
     },
     "output_type": "display_data"
    }
   ],
   "source": [
    "olympics_data = pd.read_csv(\"summer.csv\")\n",
    "medal = []\n",
    "\n",
    "for sport in olympics_data['Sport'].unique():\n",
    "    olympics_data = olympics_data[olympics_data['Sport'] == sport]\n",
    "    medal.append([sport , len(olympics_data['Medal'])])\n",
    "    olympics_data = pd.read_csv(\"summer.csv\")\n",
    "    \n",
    "pd.DataFrame(medal,columns = ['Sport','freq']).sort_values(by='freq', ascending=False).head().plot(x = 'Sport' , y = 'freq', kind = 'bar', figsize = (10,10))"
   ]
  },
  {
   "cell_type": "markdown",
   "metadata": {
    "id": "p0s73MJm7aZH"
   },
   "source": [
    "## 4. Which player has won most number of medals? (Top 5)"
   ]
  },
  {
   "cell_type": "code",
   "execution_count": 14,
   "metadata": {
    "colab": {
     "base_uri": "https://localhost:8080/",
     "height": 730
    },
    "id": "BcZcPG5vszDd",
    "outputId": "2908d6d0-1d54-4cfe-a5f4-0bc08f725ab8"
   },
   "outputs": [
    {
     "data": {
      "text/plain": [
       "<matplotlib.axes._subplots.AxesSubplot at 0x7ff6f19a0650>"
      ]
     },
     "execution_count": 14,
     "metadata": {},
     "output_type": "execute_result"
    },
    {
     "data": {
      "image/png": "[encoded data removed]",
      "text/plain": [
       "<Figure size 720x720 with 1 Axes>"
      ]
     },
     "metadata": {
      "needs_background": "light"
     },
     "output_type": "display_data"
    }
   ],
   "source": [
    "olympics_data = pd.read_csv(\"summer.csv\")\n",
    "athlete = []\n",
    "\n",
    "for player in olympics_data['Athlete'].unique():\n",
    "    olympics_data = olympics_data[olympics_data['Athlete'] == player]\n",
    "    athlete.append([player , len(olympics_data['Medal'])])\n",
    "    olympics_data = pd.read_csv(\"summer.csv\")\n",
    "    \n",
    "pd.DataFrame(athlete,columns = ['Athlete','freq']).sort_values(by='freq', ascending=False).head().plot(x = 'Athlete' , y = 'freq', kind = 'bar', figsize = (10,10))"
   ]
  },
  {
   "cell_type": "markdown",
   "metadata": {
    "id": "nwYsA49B7ipP"
   },
   "source": [
    "## 5. Which player has won most number Gold Medals of medals? (Top 5)"
   ]
  },
  {
   "cell_type": "code",
   "execution_count": 17,
   "metadata": {
    "colab": {
     "base_uri": "https://localhost:8080/",
     "height": 426
    },
    "id": "TLidP5VKvgbk",
    "outputId": "962181bd-7ba5-4a63-e031-f6999118fd59"
   },
   "outputs": [
    {
     "data": {
      "text/plain": [
       "<matplotlib.axes._subplots.AxesSubplot at 0x7ff6f1283090>"
      ]
     },
     "execution_count": 17,
     "metadata": {},
     "output_type": "execute_result"
    },
    {
     "data": {
      "image/png": "[encoded data removed]",
      "text/plain": [
       "<Figure size 360x360 with 1 Axes>"
      ]
     },
     "metadata": {
      "needs_background": "light"
     },
     "output_type": "display_data"
    }
   ],
   "source": [
    "olympics_data = pd.read_csv(\"summer.csv\")\n",
    "athlete = []\n",
    "\n",
    "for player in olympics_data['Athlete'].unique():\n",
    "    olympics_data = olympics_data[olympics_data['Athlete'] == player]\n",
    "    athlete.append([player , len(olympics_data[olympics_data['Medal'] == \"Gold\"])])\n",
    "    olympics_data = pd.read_csv(\"summer.csv\")\n",
    "    \n",
    "pd.DataFrame(athlete,columns = ['Athlete','freq']).sort_values(by='freq', ascending=False).head().plot(x = 'Athlete' , y = 'freq', kind = 'bar', figsize = (5,5))"
   ]
  },
  {
   "cell_type": "markdown",
   "metadata": {
    "id": "CN6N2Nyn7r5p"
   },
   "source": [
    "## 6. In which year India won first Gold Medal in Summer Olympics?"
   ]
  },
  {
   "cell_type": "code",
   "execution_count": 22,
   "metadata": {
    "colab": {
     "base_uri": "https://localhost:8080/"
    },
    "id": "evPvqWYyvgzE",
    "outputId": "64af4b87-86b2-424c-f968-d5feba25591f"
   },
   "outputs": [
    {
     "name": "stdout",
     "output_type": "stream",
     "text": [
      "India Won First Gold Medal in Summer Olympics is 1928\n",
      "Name: Year, dtype: int64\n"
     ]
    }
   ],
   "source": [
    "olympics_data = pd.read_csv(\"summer.csv\")\n",
    "\n",
    "olympics_data = olympics_data[olympics_data['Country'] == \"IND\"]\n",
    "olympics_data = olympics_data[olympics_data['Medal'] == \"Gold\"]\n",
    "india = str(olympics_data['Year'].head(1))\n",
    "print(\"India Won First Gold Medal in Summer Olympics is\", india[8:])"
   ]
  },
  {
   "cell_type": "markdown",
   "metadata": {
    "id": "JWwwWfrq7vF_"
   },
   "source": [
    "## 7. Which event is most popular in terms on number of players? (Top 5)"
   ]
  },
  {
   "cell_type": "code",
   "execution_count": 27,
   "metadata": {
    "colab": {
     "base_uri": "https://localhost:8080/",
     "height": 703
    },
    "id": "OMGTZ3AyvhFq",
    "outputId": "5132fc85-7c33-4292-e049-0fa51cdfcfdd"
   },
   "outputs": [
    {
     "data": {
      "text/plain": [
       "<matplotlib.axes._subplots.AxesSubplot at 0x7ff6f1680a10>"
      ]
     },
     "execution_count": 27,
     "metadata": {},
     "output_type": "execute_result"
    },
    {
     "data": {
      "image/png": "[encoded data removed]",
      "text/plain": [
       "<Figure size 720x720 with 1 Axes>"
      ]
     },
     "metadata": {
      "needs_background": "light"
     },
     "output_type": "display_data"
    }
   ],
   "source": [
    "olympics_data = pd.read_csv(\"summer.csv\")\n",
    "athlete = []\n",
    "\n",
    "for event in olympics_data['Event'].unique():\n",
    "    olympics_data = olympics_data[olympics_data['Event'] == event]\n",
    "    athlete.append([event , len(olympics_data['Athlete'])])\n",
    "    olympics_data = pd.read_csv(\"summer.csv\")\n",
    "    \n",
    "pd.DataFrame(athlete,columns = ['Event','freq']).sort_values(by='freq', ascending=False).head().plot(x = 'Event' , y = 'freq', kind = 'bar', figsize = (10,10))"
   ]
  },
  {
   "cell_type": "markdown",
   "metadata": {
    "id": "zFE_1nlG7yVm"
   },
   "source": [
    "## 8. Which sport is having most female Gold Medalists? (Top 5)"
   ]
  },
  {
   "cell_type": "code",
   "execution_count": 28,
   "metadata": {
    "colab": {
     "base_uri": "https://localhost:8080/",
     "height": 671
    },
    "id": "PQAvIX1kviVr",
    "outputId": "ee020b70-f427-4762-b418-3bf9e6ca7b75"
   },
   "outputs": [
    {
     "data": {
      "text/plain": [
       "<matplotlib.axes._subplots.AxesSubplot at 0x7ff6f0d98a90>"
      ]
     },
     "execution_count": 28,
     "metadata": {},
     "output_type": "execute_result"
    },
    {
     "data": {
      "image/png": "[encoded data removed]",
      "text/plain": [
       "<Figure size 720x720 with 1 Axes>"
      ]
     },
     "metadata": {
      "needs_background": "light"
     },
     "output_type": "display_data"
    }
   ],
   "source": [
    "olympics_data = pd.read_csv(\"summer.csv\")\n",
    "athlete = []\n",
    "\n",
    "for sport in olympics_data['Sport'].unique():\n",
    "    olympics_data = olympics_data[olympics_data['Sport'] == sport]\n",
    "    athlete.append([sport , len(olympics_data[olympics_data['Gender'] == \"Women\"])])\n",
    "    olympics_data = pd.read_csv(\"summer.csv\")\n",
    "    \n",
    "pd.DataFrame(athlete,columns = ['Event','freq']).sort_values(by='freq', ascending=False).head().plot(x = 'Event' , y = 'freq', kind = 'bar', figsize = (10,10))"
   ]
  }
 ],
 "metadata": {
  "colab": {
   "collapsed_sections": [],
   "name": "Project - 2 Olympics Datasets Analysis.ipynb",
   "provenance": []
  },
  "kernelspec": {
   "display_name": "Python 3",
   "language": "python",
   "name": "python3"
  },
  "language_info": {
   "codemirror_mode": {
    "name": "ipython",
    "version": 3
   },
   "file_extension": ".py",
   "mimetype": "text/x-python",
   "name": "python",
   "nbconvert_exporter": "python",
   "pygments_lexer": "ipython3",
   "version": "3.8.8"
  }
 },
 "nbformat": 4,
 "nbformat_minor": 1
}
